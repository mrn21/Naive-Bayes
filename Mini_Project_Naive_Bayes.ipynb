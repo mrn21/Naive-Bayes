{
 "cells": [
  {
   "cell_type": "markdown",
   "metadata": {},
   "source": [
    "# Basic Text Classification with Naive Bayes\n",
    "***\n",
    "In the mini-project, you'll learn the basics of text analysis using a subset of movie reviews from the rotten tomatoes database. You'll also use a fundamental technique in Bayesian inference, called Naive Bayes. This mini-project is based on [Lab 10 of Harvard's CS109](https://github.com/cs109/2015lab10) class.  Please free to go to the original lab for additional exercises and solutions."
   ]
  },
  {
   "cell_type": "code",
   "execution_count": 3,
   "metadata": {},
   "outputs": [],
   "source": [
    "%matplotlib inline\n",
    "import numpy as np\n",
    "import scipy as sp\n",
    "import matplotlib as mpl\n",
    "import matplotlib.cm as cm\n",
    "import matplotlib.pyplot as plt\n",
    "import pandas as pd\n",
    "import seaborn as sns\n",
    "from six.moves import range\n",
    "\n",
    "# Setup Pandas\n",
    "pd.set_option('display.width', 500)\n",
    "pd.set_option('display.max_columns', 100)\n",
    "pd.set_option('display.notebook_repr_html', True)\n",
    "\n",
    "# Setup Seaborn\n",
    "sns.set_style(\"whitegrid\")\n",
    "sns.set_context(\"poster\")"
   ]
  },
  {
   "cell_type": "markdown",
   "metadata": {},
   "source": [
    "# Table of Contents\n",
    "\n",
    "* [Rotten Tomatoes Dataset](#Rotten-Tomatoes-Dataset)\n",
    "    * [Explore](#Explore)\n",
    "* [The Vector Space Model and a Search Engine](#The-Vector-Space-Model-and-a-Search-Engine)\n",
    "    * [In Code](#In-Code)\n",
    "* [Naive Bayes](#Naive-Bayes)\n",
    "    * [Multinomial Naive Bayes and Other Likelihood Functions](#Multinomial-Naive-Bayes-and-Other-Likelihood-Functions)\n",
    "    * [Picking Hyperparameters for Naive Bayes and Text Maintenance](#Picking-Hyperparameters-for-Naive-Bayes-and-Text-Maintenance)\n",
    "* [Interpretation](#Interpretation)\n"
   ]
  },
  {
   "cell_type": "markdown",
   "metadata": {},
   "source": [
    "## Rotten Tomatoes Dataset"
   ]
  },
  {
   "cell_type": "code",
   "execution_count": 4,
   "metadata": {},
   "outputs": [
    {
     "data": {
      "text/html": [
       "<div>\n",
       "<style scoped>\n",
       "    .dataframe tbody tr th:only-of-type {\n",
       "        vertical-align: middle;\n",
       "    }\n",
       "\n",
       "    .dataframe tbody tr th {\n",
       "        vertical-align: top;\n",
       "    }\n",
       "\n",
       "    .dataframe thead th {\n",
       "        text-align: right;\n",
       "    }\n",
       "</style>\n",
       "<table border=\"1\" class=\"dataframe\">\n",
       "  <thead>\n",
       "    <tr style=\"text-align: right;\">\n",
       "      <th></th>\n",
       "      <th>critic</th>\n",
       "      <th>fresh</th>\n",
       "      <th>imdb</th>\n",
       "      <th>publication</th>\n",
       "      <th>quote</th>\n",
       "      <th>review_date</th>\n",
       "      <th>rtid</th>\n",
       "      <th>title</th>\n",
       "    </tr>\n",
       "  </thead>\n",
       "  <tbody>\n",
       "    <tr>\n",
       "      <th>1</th>\n",
       "      <td>Derek Adams</td>\n",
       "      <td>fresh</td>\n",
       "      <td>114709</td>\n",
       "      <td>Time Out</td>\n",
       "      <td>So ingenious in concept, design and execution ...</td>\n",
       "      <td>2009-10-04</td>\n",
       "      <td>9559</td>\n",
       "      <td>Toy story</td>\n",
       "    </tr>\n",
       "    <tr>\n",
       "      <th>2</th>\n",
       "      <td>Richard Corliss</td>\n",
       "      <td>fresh</td>\n",
       "      <td>114709</td>\n",
       "      <td>TIME Magazine</td>\n",
       "      <td>The year's most inventive comedy.</td>\n",
       "      <td>2008-08-31</td>\n",
       "      <td>9559</td>\n",
       "      <td>Toy story</td>\n",
       "    </tr>\n",
       "    <tr>\n",
       "      <th>3</th>\n",
       "      <td>David Ansen</td>\n",
       "      <td>fresh</td>\n",
       "      <td>114709</td>\n",
       "      <td>Newsweek</td>\n",
       "      <td>A winning animated feature that has something ...</td>\n",
       "      <td>2008-08-18</td>\n",
       "      <td>9559</td>\n",
       "      <td>Toy story</td>\n",
       "    </tr>\n",
       "    <tr>\n",
       "      <th>4</th>\n",
       "      <td>Leonard Klady</td>\n",
       "      <td>fresh</td>\n",
       "      <td>114709</td>\n",
       "      <td>Variety</td>\n",
       "      <td>The film sports a provocative and appealing st...</td>\n",
       "      <td>2008-06-09</td>\n",
       "      <td>9559</td>\n",
       "      <td>Toy story</td>\n",
       "    </tr>\n",
       "    <tr>\n",
       "      <th>5</th>\n",
       "      <td>Jonathan Rosenbaum</td>\n",
       "      <td>fresh</td>\n",
       "      <td>114709</td>\n",
       "      <td>Chicago Reader</td>\n",
       "      <td>An entertaining computer-generated, hyperreali...</td>\n",
       "      <td>2008-03-10</td>\n",
       "      <td>9559</td>\n",
       "      <td>Toy story</td>\n",
       "    </tr>\n",
       "  </tbody>\n",
       "</table>\n",
       "</div>"
      ],
      "text/plain": [
       "               critic  fresh    imdb     publication                                              quote review_date  rtid      title\n",
       "1         Derek Adams  fresh  114709        Time Out  So ingenious in concept, design and execution ...  2009-10-04  9559  Toy story\n",
       "2     Richard Corliss  fresh  114709   TIME Magazine                  The year's most inventive comedy.  2008-08-31  9559  Toy story\n",
       "3         David Ansen  fresh  114709        Newsweek  A winning animated feature that has something ...  2008-08-18  9559  Toy story\n",
       "4       Leonard Klady  fresh  114709         Variety  The film sports a provocative and appealing st...  2008-06-09  9559  Toy story\n",
       "5  Jonathan Rosenbaum  fresh  114709  Chicago Reader  An entertaining computer-generated, hyperreali...  2008-03-10  9559  Toy story"
      ]
     },
     "execution_count": 4,
     "metadata": {},
     "output_type": "execute_result"
    }
   ],
   "source": [
    "critics = pd.read_csv('./critics.csv')\n",
    "#let's drop rows with missing quotes\n",
    "critics = critics[~critics.quote.isnull()]\n",
    "critics.head()"
   ]
  },
  {
   "cell_type": "markdown",
   "metadata": {},
   "source": [
    "### Explore"
   ]
  },
  {
   "cell_type": "code",
   "execution_count": 5,
   "metadata": {},
   "outputs": [
    {
     "name": "stdout",
     "output_type": "stream",
     "text": [
      "Number of reviews: 15561\n",
      "Number of critics: 623\n",
      "Number of movies:  1921\n"
     ]
    }
   ],
   "source": [
    "n_reviews = len(critics)\n",
    "n_movies = critics.rtid.unique().size\n",
    "n_critics = critics.critic.unique().size\n",
    "\n",
    "\n",
    "print(\"Number of reviews: {:d}\".format(n_reviews))\n",
    "print(\"Number of critics: {:d}\".format(n_critics))\n",
    "print(\"Number of movies:  {:d}\".format(n_movies))"
   ]
  },
  {
   "cell_type": "code",
   "execution_count": 6,
   "metadata": {},
   "outputs": [
    {
     "data": {
      "text/plain": [
       "''"
      ]
     },
     "execution_count": 6,
     "metadata": {},
     "output_type": "execute_result"
    },
    {
     "data": {
      "image/png": "[encoded data removed]",
      "text/plain": [
       "<Figure size 432x288 with 1 Axes>"
      ]
     },
     "metadata": {},
     "output_type": "display_data"
    }
   ],
   "source": [
    "df = critics.copy()\n",
    "df['fresh'] = df.fresh == 'fresh'\n",
    "grp = df.groupby('critic')\n",
    "counts = grp.critic.count()  # number of reviews by each critic\n",
    "means = grp.fresh.mean()     # average freshness for each critic\n",
    "means[counts > 100].hist(bins=10, edgecolor='w', lw=1)\n",
    "plt.xlabel(\"Average Rating per critic\")\n",
    "plt.ylabel(\"Number of Critics\")\n",
    "plt.yticks([0, 2, 4, 6, 8, 10])\n",
    ";\n"
   ]
  },
  {
   "cell_type": "markdown",
   "metadata": {},
   "source": [
    "<div class=\"span5 alert alert-info\">\n",
    "<h3>Exercise Set I</h3>\n",
    "<br/>\n",
    "<b>Exercise:</b> Look at the histogram above. Tell a story about the average ratings per critic. What shape does the distribution look like? What is interesting about the distribution? What might explain these interesting things?\n",
    "</div>"
   ]
  },
  {
   "cell_type": "markdown",
   "metadata": {},
   "source": [
    "Histogram shows a bimodal shape. \n",
    "It can be seen thata good percentage of the critics have given 60% of the movies a postive review and a  few of them have given 80% of the movies good review. \n",
    "27 critics tend to rate a movie at 0.6 or better and 10 critics tend to rate movies with a rating less than 0.6."
   ]
  },
  {
   "cell_type": "markdown",
   "metadata": {},
   "source": [
    "## The Vector Space Model and a Search Engine"
   ]
  },
  {
   "cell_type": "markdown",
   "metadata": {},
   "source": [
    "All the diagrams here are snipped from [*Introduction to Information Retrieval* by Manning et. al.]( http://nlp.stanford.edu/IR-book/) which is a great resource on text processing. For additional information on text mining and natural language processing, see [*Foundations of Statistical Natural Language Processing* by Manning and Schutze](http://nlp.stanford.edu/fsnlp/).\n",
    "\n",
    "Also check out Python packages [`nltk`](http://www.nltk.org/), [`spaCy`](https://spacy.io/), [`pattern`](http://www.clips.ua.ac.be/pattern), and their associated resources. Also see [`word2vec`](https://en.wikipedia.org/wiki/Word2vec).\n",
    "\n",
    "Let us define the vector derived from document $d$ by $\\bar V(d)$. What does this mean? Each document is treated as a vector containing information about the words contained in it. Each vector has the same length and each entry \"slot\" in the vector contains some kind of data about the words that appear in the document such as presence/absence (1/0), count (an integer) or some other statistic. Each vector has the same length because each document shared the same vocabulary across the full collection of documents -- this collection is called a *corpus*.\n",
    "\n",
    "To define the vocabulary, we take a union of all words we have seen in all documents. We then just associate an array index with them. So \"hello\" may be at index 5 and \"world\" at index 99.\n",
    "\n",
    "Suppose we have the following corpus:\n",
    "\n",
    "`A Fox one day spied a beautiful bunch of ripe grapes hanging from a vine trained along the branches of a tree. The grapes seemed ready to burst with juice, and the Fox's mouth watered as he gazed longingly at them.`\n",
    "\n",
    "Suppose we treat each sentence as a document $d$. The vocabulary (often called the *lexicon*) is the following:\n",
    "\n",
    "$V = \\left\\{\\right.$ `a, along, and, as, at, beautiful, branches, bunch, burst, day, fox, fox's, from, gazed, grapes, hanging, he, juice, longingly, mouth, of, one, ready, ripe, seemed, spied, the, them, to, trained, tree, vine, watered, with`$\\left.\\right\\}$\n",
    "\n",
    "Then the document\n",
    "\n",
    "`A Fox one day spied a beautiful bunch of ripe grapes hanging from a vine trained along the branches of a tree`\n",
    "\n",
    "may be represented as the following sparse vector of word counts:\n",
    "\n",
    "$$\\bar V(d) = \\left( 4,1,0,0,0,1,1,1,0,1,1,0,1,0,1,1,0,0,0,0,2,1,0,1,0,0,1,0,0,1,1,1,0,0 \\right)$$\n",
    "\n",
    "or more succinctly as\n",
    "\n",
    "`[(0, 4), (1, 1), (5, 1), (6, 1), (7, 1), (9, 1), (10, 1), (12, 1), (14, 1), (15, 1), (20, 2), (21, 1), (23, 1),`\n",
    "`(26, 1), (29,1), (30, 1), (31, 1)]`\n",
    "\n",
    "along with a dictionary\n",
    "\n",
    "``\n",
    "{\n",
    "    0: a, 1: along, 5: beautiful, 6: branches, 7: bunch, 9: day, 10: fox, 12: from, 14: grapes, 15: hanging, 19: mouth, 20: of, 21: one, 23: ripe, 24: seemed, 25: spied, 26: the, 29:trained, 30: tree, 31: vine, \n",
    "}\n",
    "``\n",
    "\n",
    "Then, a set of documents becomes, in the usual `sklearn` style, a sparse matrix with rows being sparse arrays representing documents and columns representing the features/words in the vocabulary.\n",
    "\n",
    "Notice that this representation loses the relative ordering of the terms in the document. That is \"cat ate rat\" and \"rat ate cat\" are the same. Thus, this representation is also known as the Bag-Of-Words representation.\n",
    "\n",
    "Here is another example, from the book quoted above, although the matrix is transposed here so that documents are columns:\n",
    "\n",
    "![novel terms](terms.png)\n",
    "\n",
    "Such a matrix is also catted a Term-Document Matrix. Here, the terms being indexed could be stemmed before indexing; for instance, `jealous` and `jealousy` after stemming are the same feature. One could also make use of other \"Natural Language Processing\" transformations in constructing the vocabulary. We could use Lemmatization, which reduces words to lemmas: work, working, worked would all reduce to work. We could remove \"stopwords\" from our vocabulary, such as common words like \"the\". We could look for particular parts of speech, such as adjectives. This is often done in Sentiment Analysis. And so on. It all depends on our application.\n",
    "\n",
    "From the book:\n",
    ">The standard way of quantifying the similarity between two documents $d_1$ and $d_2$  is to compute the cosine similarity of their vector representations $\\bar V(d_1)$ and $\\bar V(d_2)$:\n",
    "\n",
    "$$S_{12} = \\frac{\\bar V(d_1) \\cdot \\bar V(d_2)}{|\\bar V(d_1)| \\times |\\bar V(d_2)|}$$\n",
    "\n",
    "![Vector Space Model](vsm.png)\n",
    "\n",
    "\n",
    ">There is a far more compelling reason to represent documents as vectors: we can also view a query as a vector. Consider the query q = jealous gossip. This query turns into the unit vector $\\bar V(q)$ = (0, 0.707, 0.707) on the three coordinates below. \n",
    "\n",
    "![novel terms](terms2.png)\n",
    "\n",
    ">The key idea now: to assign to each document d a score equal to the dot product:\n",
    "\n",
    "$$\\bar V(q) \\cdot \\bar V(d)$$\n",
    "\n",
    "Then we can use this simple Vector Model as a Search engine."
   ]
  },
  {
   "cell_type": "markdown",
   "metadata": {},
   "source": [
    "### In Code"
   ]
  },
  {
   "cell_type": "code",
   "execution_count": 7,
   "metadata": {},
   "outputs": [
    {
     "name": "stdout",
     "output_type": "stream",
     "text": [
      "Original text is\n",
      "Hop on pop\n",
      "Hop off pop\n",
      "Hop Hop hop\n",
      "\n",
      "Transformed text vector is \n",
      "[[1 0 1 1]\n",
      " [1 1 0 1]\n",
      " [3 0 0 0]]\n",
      "\n",
      "Words for each feature:\n",
      "['hop', 'off', 'on', 'pop']\n"
     ]
    }
   ],
   "source": [
    "from sklearn.feature_extraction.text import CountVectorizer\n",
    "\n",
    "text = ['Hop on pop', 'Hop off pop', 'Hop Hop hop']\n",
    "print(\"Original text is\\n{}\".format('\\n'.join(text)))\n",
    "\n",
    "vectorizer = CountVectorizer(min_df=0)\n",
    "\n",
    "# call `fit` to build the vocabulary\n",
    "vectorizer.fit(text)\n",
    "\n",
    "# call `transform` to convert text to a bag of words\n",
    "x = vectorizer.transform(text)\n",
    "\n",
    "# CountVectorizer uses a sparse array to save memory, but it's easier in this assignment to \n",
    "# convert back to a \"normal\" numpy array\n",
    "x = x.toarray()\n",
    "\n",
    "print(\"\")\n",
    "print(\"Transformed text vector is \\n{}\".format(x))\n",
    "\n",
    "# `get_feature_names` tracks which word is associated with each column of the transformed x\n",
    "print(\"\")\n",
    "print(\"Words for each feature:\")\n",
    "print(vectorizer.get_feature_names())\n",
    "\n",
    "# Notice that the bag of words treatment doesn't preserve information about the *order* of words, \n",
    "# just their frequency"
   ]
  },
  {
   "cell_type": "code",
   "execution_count": 8,
   "metadata": {},
   "outputs": [],
   "source": [
    "def make_xy(critics, vectorizer=None):\n",
    "    #Your code here    \n",
    "    if vectorizer is None:\n",
    "        vectorizer = CountVectorizer()\n",
    "    X = vectorizer.fit_transform(critics.quote)\n",
    "    X = X.tocsc()  # some versions of sklearn return COO format\n",
    "    y = (critics.fresh == 'fresh').values.astype(np.int)\n",
    "    return X, y\n",
    "X, y = make_xy(critics)\n"
   ]
  },
  {
   "cell_type": "markdown",
   "metadata": {},
   "source": [
    "## Naive Bayes"
   ]
  },
  {
   "cell_type": "markdown",
   "metadata": {},
   "source": [
    "From Bayes' Theorem, we have that\n",
    "\n",
    "$$P(c \\vert f) = \\frac{P(c \\cap f)}{P(f)}$$\n",
    "\n",
    "where $c$ represents a *class* or category, and $f$ represents a feature vector, such as $\\bar V(d)$ as above. **We are computing the probability that a document (or whatever we are classifying) belongs to category *c* given the features in the document.** $P(f)$ is really just a normalization constant, so the literature usually writes Bayes' Theorem in context of Naive Bayes as\n",
    "\n",
    "$$P(c \\vert f) \\propto P(f \\vert c) P(c) $$\n",
    "\n",
    "$P(c)$ is called the *prior* and is simply the probability of seeing class $c$. But what is $P(f \\vert c)$? This is the probability that we see feature set $f$ given that this document is actually in class $c$. This is called the *likelihood* and comes from the data. One of the major assumptions of the Naive Bayes model is that the features are *conditionally independent* given the class. While the presence of a particular discriminative word may uniquely identify the document as being part of class $c$ and thus violate general feature independence, conditional independence means that the presence of that term is independent of all the other words that appear *within that class*. This is a very important distinction. Recall that if two events are independent, then:\n",
    "\n",
    "$$P(A \\cap B) = P(A) \\cdot P(B)$$\n",
    "\n",
    "Thus, conditional independence implies\n",
    "\n",
    "$$P(f \\vert c)  = \\prod_i P(f_i | c) $$\n",
    "\n",
    "where $f_i$ is an individual feature (a word in this example).\n",
    "\n",
    "To make a classification, we then choose the class $c$ such that $P(c \\vert f)$ is maximal.\n",
    "\n",
    "There is a small caveat when computing these probabilities. For [floating point underflow](http://nlp.stanford.edu/IR-book/html/htmledition/naive-bayes-text-classification-1.html) we change the product into a sum by going into log space. This is called the LogSumExp trick. So:\n",
    "\n",
    "$$\\log P(f \\vert c)  = \\sum_i \\log P(f_i \\vert c) $$\n",
    "\n",
    "There is another caveat. What if we see a term that didn't exist in the training data? This means that $P(f_i \\vert c) = 0$ for that term, and thus $P(f \\vert c)  = \\prod_i P(f_i | c) = 0$, which doesn't help us at all. Instead of using zeros, we add a small negligible value called $\\alpha$ to each count. This is called Laplace Smoothing.\n",
    "\n",
    "$$P(f_i \\vert c) = \\frac{N_{ic}+\\alpha}{N_c + \\alpha N_i}$$\n",
    "\n",
    "where $N_{ic}$ is the number of times feature $i$ was seen in class $c$, $N_c$ is the number of times class $c$ was seen and $N_i$ is the number of times feature $i$ was seen globally. $\\alpha$ is sometimes called a regularization parameter."
   ]
  },
  {
   "cell_type": "markdown",
   "metadata": {},
   "source": [
    "### Multinomial Naive Bayes and Other Likelihood Functions\n",
    "\n",
    "Since we are modeling word counts, we are using variation of Naive Bayes called Multinomial Naive Bayes. This is because the likelihood function actually takes the form of the multinomial distribution.\n",
    "\n",
    "$$P(f \\vert c) = \\frac{\\left( \\sum_i f_i \\right)!}{\\prod_i f_i!} \\prod_{f_i} P(f_i \\vert c)^{f_i} \\propto \\prod_{i} P(f_i \\vert c)$$\n",
    "\n",
    "where the nasty term out front is absorbed as a normalization constant such that probabilities sum to 1.\n",
    "\n",
    "There are many other variations of Naive Bayes, all which depend on what type of value $f_i$ takes. If $f_i$ is continuous, we may be able to use *Gaussian Naive Bayes*. First compute the mean and variance for each class $c$. Then the likelihood, $P(f \\vert c)$ is given as follows\n",
    "\n",
    "$$P(f_i = v \\vert c) = \\frac{1}{\\sqrt{2\\pi \\sigma^2_c}} e^{- \\frac{\\left( v - \\mu_c \\right)^2}{2 \\sigma^2_c}}$$"
   ]
  },
  {
   "cell_type": "markdown",
   "metadata": {},
   "source": [
    "<div class=\"span5 alert alert-info\">\n",
    "<h3>Exercise Set II</h3>\n",
    "\n",
    "<p><b>Exercise:</b> Implement a simple Naive Bayes classifier:</p>\n",
    "\n",
    "<ol>\n",
    "<li> split the data set into a training and test set\n",
    "<li> Use `scikit-learn`'s `MultinomialNB()` classifier with default parameters.\n",
    "<li> train the classifier over the training set and test on the test set\n",
    "<li> print the accuracy scores for both the training and the test sets\n",
    "</ol>\n",
    "\n",
    "What do you notice? Is this a good classifier? If not, why not?\n",
    "</div>"
   ]
  },
  {
   "cell_type": "code",
   "execution_count": 9,
   "metadata": {},
   "outputs": [
    {
     "name": "stdout",
     "output_type": "stream",
     "text": [
      "Training Score : 0.9226221079691517\n",
      "Test Score :0.7751220765869956 \n"
     ]
    }
   ],
   "source": [
    "#split the data set into a training and test set\n",
    "\n",
    "from sklearn.model_selection import train_test_split\n",
    "from sklearn.naive_bayes import MultinomialNB\n",
    "\n",
    "X_train, X_test, y_train, y_test = train_test_split(X,y)\n",
    "\n",
    "#Use scikit-learn's MultinomialNB() classifier with default parameters.\n",
    "\n",
    "clf = MultinomialNB()\n",
    "\n",
    "#train the classifier over the training set and test on the test set\n",
    "\n",
    "clf.fit(X_train, y_train)\n",
    "\n",
    "#print the accuracy scores for both the training and the test sets\n",
    "print(\"Training Score : {}\".format(clf.score(X_train,y_train)))\n",
    "print(\"Test Score :{} \".format(clf.score(X_test,y_test)))\n",
    "\n",
    "\n",
    "\n",
    "  \n"
   ]
  },
  {
   "cell_type": "markdown",
   "metadata": {},
   "source": [
    " The accuracy score on the test set is only about 77%, while the score on the training set is more than 92.5% , implying that the\n",
    "multinominal Naive Bayes classifier overfits the training data and so the classifer does not perform well in predicting the \n",
    "unseen data"
   ]
  },
  {
   "cell_type": "markdown",
   "metadata": {},
   "source": [
    "### Picking Hyperparameters for Naive Bayes and Text Maintenance"
   ]
  },
  {
   "cell_type": "markdown",
   "metadata": {},
   "source": [
    "We need to know what value to use for $\\alpha$, and we also need to know which words to include in the vocabulary. As mentioned earlier, some words are obvious stopwords. Other words appear so infrequently that they serve as noise, and other words in addition to stopwords appear so frequently that they may also serve as noise."
   ]
  },
  {
   "cell_type": "markdown",
   "metadata": {},
   "source": [
    "First, let's find an appropriate value for `min_df` for the `CountVectorizer`. `min_df` can be either an integer or a float/decimal. If it is an integer, `min_df` represents the minimum number of documents a word must appear in for it to be included in the vocabulary. If it is a float, it represents the minimum *percentage* of documents a word must appear in to be included in the vocabulary. From the documentation:"
   ]
  },
  {
   "cell_type": "markdown",
   "metadata": {},
   "source": [
    ">min_df: When building the vocabulary ignore terms that have a document frequency strictly lower than the given threshold. This value is also called cut-off in the literature. If float, the parameter represents a proportion of documents, integer absolute counts. This parameter is ignored if vocabulary is not None."
   ]
  },
  {
   "cell_type": "markdown",
   "metadata": {},
   "source": [
    "<div class=\"span5 alert alert-info\">\n",
    "<h3>Exercise Set III</h3>\n",
    "\n",
    "<p><b>Exercise:</b> Construct the cumulative distribution of document frequencies (df). The $x$-axis is a document count $x_i$ and the $y$-axis is the percentage of words that appear less than $x_i$ times. For example, at $x=5$, plot a point representing the percentage or number of words that appear in 5 or fewer documents.</p>\n",
    "\n",
    "<p><b>Exercise:</b> Look for the point at which the curve begins climbing steeply. This may be a good value for `min_df`. If we were interested in also picking `max_df`, we would likely pick the value where the curve starts to plateau. What value did you choose?</p>\n",
    "</div>"
   ]
  },
  {
   "cell_type": "code",
   "execution_count": 13,
   "metadata": {},
   "outputs": [
    {
     "data": {
      "text/html": [
       "<div>\n",
       "<style scoped>\n",
       "    .dataframe tbody tr th:only-of-type {\n",
       "        vertical-align: middle;\n",
       "    }\n",
       "\n",
       "    .dataframe tbody tr th {\n",
       "        vertical-align: top;\n",
       "    }\n",
       "\n",
       "    .dataframe thead th {\n",
       "        text-align: right;\n",
       "    }\n",
       "</style>\n",
       "<table border=\"1\" class=\"dataframe\">\n",
       "  <thead>\n",
       "    <tr style=\"text-align: right;\">\n",
       "      <th></th>\n",
       "      <th>Doc Freq</th>\n",
       "    </tr>\n",
       "    <tr>\n",
       "      <th>Word Index</th>\n",
       "      <th></th>\n",
       "    </tr>\n",
       "  </thead>\n",
       "  <tbody>\n",
       "    <tr>\n",
       "      <th>0</th>\n",
       "      <td>8</td>\n",
       "    </tr>\n",
       "    <tr>\n",
       "      <th>1</th>\n",
       "      <td>1</td>\n",
       "    </tr>\n",
       "    <tr>\n",
       "      <th>2</th>\n",
       "      <td>10</td>\n",
       "    </tr>\n",
       "    <tr>\n",
       "      <th>3</th>\n",
       "      <td>1</td>\n",
       "    </tr>\n",
       "    <tr>\n",
       "      <th>4</th>\n",
       "      <td>1</td>\n",
       "    </tr>\n",
       "    <tr>\n",
       "      <th>5</th>\n",
       "      <td>39</td>\n",
       "    </tr>\n",
       "    <tr>\n",
       "      <th>6</th>\n",
       "      <td>17</td>\n",
       "    </tr>\n",
       "    <tr>\n",
       "      <th>7</th>\n",
       "      <td>4</td>\n",
       "    </tr>\n",
       "    <tr>\n",
       "      <th>8</th>\n",
       "      <td>1</td>\n",
       "    </tr>\n",
       "    <tr>\n",
       "      <th>9</th>\n",
       "      <td>1</td>\n",
       "    </tr>\n",
       "  </tbody>\n",
       "</table>\n",
       "</div>"
      ],
      "text/plain": [
       "            Doc Freq\n",
       "Word Index          \n",
       "0                  8\n",
       "1                  1\n",
       "2                 10\n",
       "3                  1\n",
       "4                  1\n",
       "5                 39\n",
       "6                 17\n",
       "7                  4\n",
       "8                  1\n",
       "9                  1"
      ]
     },
     "execution_count": 13,
     "metadata": {},
     "output_type": "execute_result"
    }
   ],
   "source": [
    "critics_df = critics.copy()\n",
    "X_new,y_new =  make_xy(critics_df)\n",
    "word_doc_freq =  pd.DataFrame(data=(X_new.sum(axis=0).transpose()).A[:,0])\n",
    "word_doc_freq.columns = [ 'Doc Freq']\n",
    "word_doc_freq.index.name = 'Word Index'\n",
    "word_doc_freq.head(10)\n",
    "\n",
    "\n",
    "\n"
   ]
  },
  {
   "cell_type": "code",
   "execution_count": 15,
   "metadata": {},
   "outputs": [
    {
     "data": {
      "text/plain": [
       "Counter({1: 9552,\n",
       "         2: 3486,\n",
       "         3: 1916,\n",
       "         4: 1259,\n",
       "         5: 896,\n",
       "         6: 634,\n",
       "         7: 532,\n",
       "         8: 415,\n",
       "         9: 354,\n",
       "         10: 294,\n",
       "         11: 235,\n",
       "         12: 212,\n",
       "         13: 185,\n",
       "         14: 176,\n",
       "         15: 135,\n",
       "         16: 104,\n",
       "         17: 106,\n",
       "         18: 90,\n",
       "         19: 95,\n",
       "         20: 77,\n",
       "         21: 83,\n",
       "         22: 75,\n",
       "         23: 57,\n",
       "         24: 48,\n",
       "         25: 53,\n",
       "         26: 53,\n",
       "         27: 42,\n",
       "         28: 48,\n",
       "         29: 44,\n",
       "         30: 45,\n",
       "         31: 35,\n",
       "         32: 28,\n",
       "         33: 34,\n",
       "         34: 36,\n",
       "         35: 26,\n",
       "         36: 27,\n",
       "         37: 21,\n",
       "         38: 18,\n",
       "         39: 25,\n",
       "         40: 19,\n",
       "         41: 20,\n",
       "         42: 23,\n",
       "         43: 18,\n",
       "         44: 21,\n",
       "         45: 17,\n",
       "         46: 17,\n",
       "         47: 20,\n",
       "         48: 10,\n",
       "         49: 17,\n",
       "         50: 12,\n",
       "         51: 7,\n",
       "         52: 13,\n",
       "         53: 20,\n",
       "         54: 6,\n",
       "         55: 10,\n",
       "         56: 17,\n",
       "         57: 14,\n",
       "         58: 10,\n",
       "         59: 10,\n",
       "         60: 13,\n",
       "         61: 11,\n",
       "         62: 10,\n",
       "         63: 11,\n",
       "         64: 9,\n",
       "         65: 4,\n",
       "         66: 12,\n",
       "         67: 12,\n",
       "         68: 7,\n",
       "         69: 3,\n",
       "         70: 3,\n",
       "         71: 6,\n",
       "         72: 5,\n",
       "         73: 6,\n",
       "         74: 6,\n",
       "         75: 5,\n",
       "         76: 11,\n",
       "         77: 11,\n",
       "         78: 2,\n",
       "         79: 4,\n",
       "         80: 11,\n",
       "         81: 5,\n",
       "         82: 5,\n",
       "         83: 5,\n",
       "         84: 7,\n",
       "         85: 4,\n",
       "         86: 5,\n",
       "         87: 3,\n",
       "         88: 2,\n",
       "         89: 4,\n",
       "         90: 3,\n",
       "         91: 4,\n",
       "         92: 1,\n",
       "         93: 8,\n",
       "         94: 5,\n",
       "         95: 5,\n",
       "         96: 4,\n",
       "         97: 3,\n",
       "         98: 2,\n",
       "         99: 3,\n",
       "         100: 5,\n",
       "         101: 4,\n",
       "         102: 2,\n",
       "         103: 3,\n",
       "         104: 2,\n",
       "         105: 1,\n",
       "         106: 8,\n",
       "         107: 4,\n",
       "         108: 2,\n",
       "         110: 3,\n",
       "         111: 2,\n",
       "         112: 6,\n",
       "         113: 4,\n",
       "         116: 8,\n",
       "         117: 2,\n",
       "         118: 3,\n",
       "         119: 1,\n",
       "         121: 2,\n",
       "         122: 1,\n",
       "         123: 3,\n",
       "         124: 1,\n",
       "         126: 1,\n",
       "         127: 2,\n",
       "         128: 4,\n",
       "         130: 1,\n",
       "         131: 1,\n",
       "         133: 2,\n",
       "         134: 3,\n",
       "         135: 1,\n",
       "         137: 2,\n",
       "         138: 4,\n",
       "         140: 1,\n",
       "         141: 3,\n",
       "         142: 4,\n",
       "         144: 3,\n",
       "         145: 2,\n",
       "         146: 3,\n",
       "         147: 3,\n",
       "         149: 1,\n",
       "         150: 1,\n",
       "         151: 1,\n",
       "         153: 1,\n",
       "         154: 1,\n",
       "         156: 3,\n",
       "         157: 2,\n",
       "         158: 2,\n",
       "         159: 2,\n",
       "         160: 2,\n",
       "         161: 2,\n",
       "         162: 1,\n",
       "         166: 3,\n",
       "         169: 1,\n",
       "         170: 2,\n",
       "         172: 2,\n",
       "         175: 1,\n",
       "         176: 1,\n",
       "         177: 3,\n",
       "         178: 1,\n",
       "         179: 1,\n",
       "         182: 1,\n",
       "         183: 1,\n",
       "         184: 1,\n",
       "         186: 3,\n",
       "         188: 1,\n",
       "         189: 1,\n",
       "         191: 1,\n",
       "         192: 2,\n",
       "         195: 1,\n",
       "         196: 2,\n",
       "         198: 1,\n",
       "         199: 1,\n",
       "         200: 1,\n",
       "         201: 2,\n",
       "         202: 1,\n",
       "         205: 1,\n",
       "         207: 1,\n",
       "         208: 2,\n",
       "         209: 1,\n",
       "         210: 1,\n",
       "         212: 1,\n",
       "         213: 1,\n",
       "         214: 2,\n",
       "         219: 2,\n",
       "         221: 1,\n",
       "         222: 1,\n",
       "         223: 1,\n",
       "         225: 1,\n",
       "         226: 1,\n",
       "         227: 3,\n",
       "         231: 2,\n",
       "         232: 2,\n",
       "         233: 1,\n",
       "         234: 1,\n",
       "         236: 1,\n",
       "         237: 2,\n",
       "         239: 1,\n",
       "         242: 1,\n",
       "         244: 3,\n",
       "         248: 1,\n",
       "         249: 1,\n",
       "         252: 3,\n",
       "         254: 1,\n",
       "         256: 1,\n",
       "         257: 3,\n",
       "         258: 3,\n",
       "         260: 1,\n",
       "         261: 1,\n",
       "         263: 1,\n",
       "         264: 1,\n",
       "         266: 1,\n",
       "         271: 1,\n",
       "         272: 1,\n",
       "         273: 1,\n",
       "         274: 1,\n",
       "         276: 1,\n",
       "         278: 1,\n",
       "         279: 1,\n",
       "         282: 1,\n",
       "         284: 2,\n",
       "         287: 1,\n",
       "         288: 1,\n",
       "         290: 1,\n",
       "         293: 1,\n",
       "         295: 1,\n",
       "         296: 2,\n",
       "         301: 1,\n",
       "         305: 1,\n",
       "         306: 1,\n",
       "         320: 1,\n",
       "         322: 1,\n",
       "         324: 1,\n",
       "         330: 1,\n",
       "         336: 1,\n",
       "         341: 1,\n",
       "         343: 1,\n",
       "         344: 1,\n",
       "         354: 1,\n",
       "         363: 1,\n",
       "         364: 1,\n",
       "         367: 1,\n",
       "         369: 1,\n",
       "         370: 1,\n",
       "         383: 1,\n",
       "         386: 1,\n",
       "         387: 1,\n",
       "         388: 1,\n",
       "         396: 1,\n",
       "         399: 1,\n",
       "         413: 1,\n",
       "         415: 1,\n",
       "         417: 1,\n",
       "         422: 1,\n",
       "         433: 1,\n",
       "         434: 1,\n",
       "         438: 2,\n",
       "         439: 1,\n",
       "         443: 1,\n",
       "         462: 1,\n",
       "         469: 1,\n",
       "         472: 1,\n",
       "         478: 1,\n",
       "         496: 1,\n",
       "         504: 1,\n",
       "         507: 1,\n",
       "         531: 1,\n",
       "         540: 1,\n",
       "         545: 2,\n",
       "         572: 1,\n",
       "         591: 1,\n",
       "         599: 1,\n",
       "         615: 1,\n",
       "         644: 1,\n",
       "         657: 1,\n",
       "         663: 1,\n",
       "         688: 1,\n",
       "         689: 1,\n",
       "         691: 1,\n",
       "         702: 1,\n",
       "         703: 1,\n",
       "         711: 1,\n",
       "         744: 1,\n",
       "         790: 1,\n",
       "         821: 1,\n",
       "         864: 1,\n",
       "         875: 1,\n",
       "         887: 1,\n",
       "         993: 1,\n",
       "         1018: 1,\n",
       "         1024: 1,\n",
       "         1037: 1,\n",
       "         1069: 1,\n",
       "         1085: 1,\n",
       "         1121: 1,\n",
       "         1157: 1,\n",
       "         1237: 1,\n",
       "         1295: 1,\n",
       "         1301: 1,\n",
       "         1331: 1,\n",
       "         1390: 1,\n",
       "         1408: 2,\n",
       "         1836: 1,\n",
       "         1903: 1,\n",
       "         2148: 1,\n",
       "         2199: 1,\n",
       "         2267: 1,\n",
       "         2335: 1,\n",
       "         2411: 1,\n",
       "         2577: 1,\n",
       "         2858: 1,\n",
       "         3681: 1,\n",
       "         4252: 1,\n",
       "         5332: 1,\n",
       "         5974: 1,\n",
       "         6238: 1,\n",
       "         9778: 1,\n",
       "         9904: 1,\n",
       "         16805: 1})"
      ]
     },
     "execution_count": 15,
     "metadata": {},
     "output_type": "execute_result"
    }
   ],
   "source": [
    "from collections import Counter\n",
    "\n",
    "sorted_doc_freq = np.sort(word_doc_freq['Doc Freq'])\n",
    "sorted_doc_freq\n",
    "counts = Counter(sorted_doc_freq)\n",
    "counts"
   ]
  },
  {
   "cell_type": "code",
   "execution_count": 16,
   "metadata": {},
   "outputs": [
    {
     "data": {
      "text/plain": [
       "dict_items([(1, 9552), (2, 3486), (3, 1916), (4, 1259), (5, 896), (6, 634), (7, 532), (8, 415), (9, 354), (10, 294), (11, 235), (12, 212), (13, 185), (14, 176), (15, 135), (16, 104), (17, 106), (18, 90), (19, 95), (20, 77), (21, 83), (22, 75), (23, 57), (24, 48), (25, 53), (26, 53), (27, 42), (28, 48), (29, 44), (30, 45), (31, 35), (32, 28), (33, 34), (34, 36), (35, 26), (36, 27), (37, 21), (38, 18), (39, 25), (40, 19), (41, 20), (42, 23), (43, 18), (44, 21), (45, 17), (46, 17), (47, 20), (48, 10), (49, 17), (50, 12), (51, 7), (52, 13), (53, 20), (54, 6), (55, 10), (56, 17), (57, 14), (58, 10), (59, 10), (60, 13), (61, 11), (62, 10), (63, 11), (64, 9), (65, 4), (66, 12), (67, 12), (68, 7), (69, 3), (70, 3), (71, 6), (72, 5), (73, 6), (74, 6), (75, 5), (76, 11), (77, 11), (78, 2), (79, 4), (80, 11), (81, 5), (82, 5), (83, 5), (84, 7), (85, 4), (86, 5), (87, 3), (88, 2), (89, 4), (90, 3), (91, 4), (92, 1), (93, 8), (94, 5), (95, 5), (96, 4), (97, 3), (98, 2), (99, 3), (100, 5), (101, 4), (102, 2), (103, 3), (104, 2), (105, 1), (106, 8), (107, 4), (108, 2), (110, 3), (111, 2), (112, 6), (113, 4), (116, 8), (117, 2), (118, 3), (119, 1), (121, 2), (122, 1), (123, 3), (124, 1), (126, 1), (127, 2), (128, 4), (130, 1), (131, 1), (133, 2), (134, 3), (135, 1), (137, 2), (138, 4), (140, 1), (141, 3), (142, 4), (144, 3), (145, 2), (146, 3), (147, 3), (149, 1), (150, 1), (151, 1), (153, 1), (154, 1), (156, 3), (157, 2), (158, 2), (159, 2), (160, 2), (161, 2), (162, 1), (166, 3), (169, 1), (170, 2), (172, 2), (175, 1), (176, 1), (177, 3), (178, 1), (179, 1), (182, 1), (183, 1), (184, 1), (186, 3), (188, 1), (189, 1), (191, 1), (192, 2), (195, 1), (196, 2), (198, 1), (199, 1), (200, 1), (201, 2), (202, 1), (205, 1), (207, 1), (208, 2), (209, 1), (210, 1), (212, 1), (213, 1), (214, 2), (219, 2), (221, 1), (222, 1), (223, 1), (225, 1), (226, 1), (227, 3), (231, 2), (232, 2), (233, 1), (234, 1), (236, 1), (237, 2), (239, 1), (242, 1), (244, 3), (248, 1), (249, 1), (252, 3), (254, 1), (256, 1), (257, 3), (258, 3), (260, 1), (261, 1), (263, 1), (264, 1), (266, 1), (271, 1), (272, 1), (273, 1), (274, 1), (276, 1), (278, 1), (279, 1), (282, 1), (284, 2), (287, 1), (288, 1), (290, 1), (293, 1), (295, 1), (296, 2), (301, 1), (305, 1), (306, 1), (320, 1), (322, 1), (324, 1), (330, 1), (336, 1), (341, 1), (343, 1), (344, 1), (354, 1), (363, 1), (364, 1), (367, 1), (369, 1), (370, 1), (383, 1), (386, 1), (387, 1), (388, 1), (396, 1), (399, 1), (413, 1), (415, 1), (417, 1), (422, 1), (433, 1), (434, 1), (438, 2), (439, 1), (443, 1), (462, 1), (469, 1), (472, 1), (478, 1), (496, 1), (504, 1), (507, 1), (531, 1), (540, 1), (545, 2), (572, 1), (591, 1), (599, 1), (615, 1), (644, 1), (657, 1), (663, 1), (688, 1), (689, 1), (691, 1), (702, 1), (703, 1), (711, 1), (744, 1), (790, 1), (821, 1), (864, 1), (875, 1), (887, 1), (993, 1), (1018, 1), (1024, 1), (1037, 1), (1069, 1), (1085, 1), (1121, 1), (1157, 1), (1237, 1), (1295, 1), (1301, 1), (1331, 1), (1390, 1), (1408, 2), (1836, 1), (1903, 1), (2148, 1), (2199, 1), (2267, 1), (2335, 1), (2411, 1), (2577, 1), (2858, 1), (3681, 1), (4252, 1), (5332, 1), (5974, 1), (6238, 1), (9778, 1), (9904, 1), (16805, 1)])"
      ]
     },
     "execution_count": 16,
     "metadata": {},
     "output_type": "execute_result"
    }
   ],
   "source": [
    "counts = counts.items()\n",
    "counts"
   ]
  },
  {
   "cell_type": "code",
   "execution_count": 17,
   "metadata": {},
   "outputs": [
    {
     "name": "stdout",
     "output_type": "stream",
     "text": [
      "[9552 3486 1916 1259  896  634  532  415  354  294  235  212  185  176\n",
      "  135  104  106   90   95   77   83   75   57   48   53   53   42   48\n",
      "   44   45   35   28   34   36   26   27   21   18   25   19   20   23\n",
      "   18   21   17   17   20   10   17   12    7   13   20    6   10   17\n",
      "   14   10   10   13   11   10   11    9    4   12   12    7    3    3\n",
      "    6    5    6    6    5   11   11    2    4   11    5    5    5    7\n",
      "    4    5    3    2    4    3    4    1    8    5    5    4    3    2\n",
      "    3    5    4    2    3    2    1    8    4    2    3    2    6    4\n",
      "    8    2    3    1    2    1    3    1    1    2    4    1    1    2\n",
      "    3    1    2    4    1    3    4    3    2    3    3    1    1    1\n",
      "    1    1    3    2    2    2    2    2    1    3    1    2    2    1\n",
      "    1    3    1    1    1    1    1    3    1    1    1    2    1    2\n",
      "    1    1    1    2    1    1    1    2    1    1    1    1    2    2\n",
      "    1    1    1    1    1    3    2    2    1    1    1    2    1    1\n",
      "    3    1    1    3    1    1    3    3    1    1    1    1    1    1\n",
      "    1    1    1    1    1    1    1    2    1    1    1    1    1    2\n",
      "    1    1    1    1    1    1    1    1    1    1    1    1    1    1\n",
      "    1    1    1    1    1    1    1    1    1    1    1    1    1    1\n",
      "    1    2    1    1    1    1    1    1    1    1    1    1    1    2\n",
      "    1    1    1    1    1    1    1    1    1    1    1    1    1    1\n",
      "    1    1    1    1    1    1    1    1    1    1    1    1    1    1\n",
      "    1    1    1    1    2    1    1    1    1    1    1    1    1    1\n",
      "    1    1    1    1    1    1    1    1]\n",
      "[ 9552 13038 14954 16213 17109 17743 18275 18690 19044 19338 19573 19785\n",
      " 19970 20146 20281 20385 20491 20581 20676 20753 20836 20911 20968 21016\n",
      " 21069 21122 21164 21212 21256 21301 21336 21364 21398 21434 21460 21487\n",
      " 21508 21526 21551 21570 21590 21613 21631 21652 21669 21686 21706 21716\n",
      " 21733 21745 21752 21765 21785 21791 21801 21818 21832 21842 21852 21865\n",
      " 21876 21886 21897 21906 21910 21922 21934 21941 21944 21947 21953 21958\n",
      " 21964 21970 21975 21986 21997 21999 22003 22014 22019 22024 22029 22036\n",
      " 22040 22045 22048 22050 22054 22057 22061 22062 22070 22075 22080 22084\n",
      " 22087 22089 22092 22097 22101 22103 22106 22108 22109 22117 22121 22123\n",
      " 22126 22128 22134 22138 22146 22148 22151 22152 22154 22155 22158 22159\n",
      " 22160 22162 22166 22167 22168 22170 22173 22174 22176 22180 22181 22184\n",
      " 22188 22191 22193 22196 22199 22200 22201 22202 22203 22204 22207 22209\n",
      " 22211 22213 22215 22217 22218 22221 22222 22224 22226 22227 22228 22231\n",
      " 22232 22233 22234 22235 22236 22239 22240 22241 22242 22244 22245 22247\n",
      " 22248 22249 22250 22252 22253 22254 22255 22257 22258 22259 22260 22261\n",
      " 22263 22265 22266 22267 22268 22269 22270 22273 22275 22277 22278 22279\n",
      " 22280 22282 22283 22284 22287 22288 22289 22292 22293 22294 22297 22300\n",
      " 22301 22302 22303 22304 22305 22306 22307 22308 22309 22310 22311 22312\n",
      " 22313 22315 22316 22317 22318 22319 22320 22322 22323 22324 22325 22326\n",
      " 22327 22328 22329 22330 22331 22332 22333 22334 22335 22336 22337 22338\n",
      " 22339 22340 22341 22342 22343 22344 22345 22346 22347 22348 22349 22350\n",
      " 22351 22353 22354 22355 22356 22357 22358 22359 22360 22361 22362 22363\n",
      " 22364 22366 22367 22368 22369 22370 22371 22372 22373 22374 22375 22376\n",
      " 22377 22378 22379 22380 22381 22382 22383 22384 22385 22386 22387 22388\n",
      " 22389 22390 22391 22392 22393 22394 22395 22396 22397 22398 22400 22401\n",
      " 22402 22403 22404 22405 22406 22407 22408 22409 22410 22411 22412 22413\n",
      " 22414 22415 22416 22417]\n",
      "22417\n",
      "[0.42610519 0.58161217 0.66708302 0.72324575 0.76321542 0.79149752\n",
      " 0.81522951 0.83374225 0.84953384 0.86264888 0.873132   0.88258911\n",
      " 0.89084177 0.89869296 0.90471517 0.90935451 0.91408306 0.91809787\n",
      " 0.92233573 0.92577062 0.92947317 0.93281884 0.93536156 0.93750279\n",
      " 0.93986707 0.94223134 0.94410492 0.94624615 0.94820895 0.95021635\n",
      " 0.95177767 0.95302672 0.95454343 0.95614935 0.95730918 0.95851363\n",
      " 0.95945042 0.96025338 0.9613686  0.96221618 0.96310836 0.96413436\n",
      " 0.96493732 0.96587411 0.96663247 0.96739082 0.968283   0.96872909\n",
      " 0.96948744 0.97002275 0.97033501 0.97091493 0.97180711 0.97207476\n",
      " 0.97252085 0.97327921 0.97390373 0.97434982 0.97479591 0.97537583\n",
      " 0.97586653 0.97631262 0.97680332 0.9772048  0.97738324 0.97791854\n",
      " 0.97845385 0.97876612 0.97889994 0.97903377 0.97930142 0.97952447\n",
      " 0.97979212 0.98005978 0.98028282 0.98077352 0.98126422 0.98135344\n",
      " 0.98153187 0.98202257 0.98224562 0.98246866 0.98269171 0.98300397\n",
      " 0.98318241 0.98340545 0.98353928 0.9836285  0.98380693 0.98394076\n",
      " 0.9841192  0.9841638  0.98452068 0.98474372 0.98496677 0.9851452\n",
      " 0.98527903 0.98536825 0.98550207 0.98572512 0.98590356 0.98599277\n",
      " 0.9861266  0.98621582 0.98626043 0.9866173  0.98679574 0.98688495\n",
      " 0.98701878 0.987108   0.98737565 0.98755409 0.98791096 0.98800018\n",
      " 0.98813401 0.98817861 0.98826783 0.98831244 0.98844627 0.98849088\n",
      " 0.98853549 0.9886247  0.98880314 0.98884775 0.98889236 0.98898158\n",
      " 0.9891154  0.98916001 0.98924923 0.98942767 0.98947228 0.9896061\n",
      " 0.98978454 0.98991837 0.99000758 0.99014141 0.99027524 0.99031985\n",
      " 0.99036446 0.99040906 0.99045367 0.99049828 0.99063211 0.99072133\n",
      " 0.99081055 0.99089976 0.99098898 0.9910782  0.99112281 0.99125664\n",
      " 0.99130124 0.99139046 0.99147968 0.99152429 0.9915689  0.99170273\n",
      " 0.99174733 0.99179194 0.99183655 0.99188116 0.99192577 0.9920596\n",
      " 0.99210421 0.99214882 0.99219342 0.99228264 0.99232725 0.99241647\n",
      " 0.99246108 0.99250569 0.9925503  0.99263951 0.99268412 0.99272873\n",
      " 0.99277334 0.99286256 0.99290717 0.99295178 0.99299639 0.993041\n",
      " 0.99313021 0.99321943 0.99326404 0.99330865 0.99335326 0.99339787\n",
      " 0.99344248 0.9935763  0.99366552 0.99375474 0.99379935 0.99384396\n",
      " 0.99388857 0.99397778 0.99402239 0.994067   0.99420083 0.99424544\n",
      " 0.99429005 0.99442387 0.99446848 0.99451309 0.99464692 0.99478075\n",
      " 0.99482536 0.99486996 0.99491457 0.99495918 0.99500379 0.9950484\n",
      " 0.99509301 0.99513762 0.99518223 0.99522684 0.99527145 0.99531605\n",
      " 0.99536066 0.99544988 0.99549449 0.9955391  0.99558371 0.99562832\n",
      " 0.99567293 0.99576214 0.99580675 0.99585136 0.99589597 0.99594058\n",
      " 0.99598519 0.9960298  0.99607441 0.99611902 0.99616363 0.99620823\n",
      " 0.99625284 0.99629745 0.99634206 0.99638667 0.99643128 0.99647589\n",
      " 0.9965205  0.99656511 0.99660972 0.99665432 0.99669893 0.99674354\n",
      " 0.99678815 0.99683276 0.99687737 0.99692198 0.99696659 0.9970112\n",
      " 0.99705581 0.99714502 0.99718963 0.99723424 0.99727885 0.99732346\n",
      " 0.99736807 0.99741268 0.99745729 0.9975019  0.9975465  0.99759111\n",
      " 0.99763572 0.99772494 0.99776955 0.99781416 0.99785877 0.99790338\n",
      " 0.99794799 0.99799259 0.9980372  0.99808181 0.99812642 0.99817103\n",
      " 0.99821564 0.99826025 0.99830486 0.99834947 0.99839408 0.99843868\n",
      " 0.99848329 0.9985279  0.99857251 0.99861712 0.99866173 0.99870634\n",
      " 0.99875095 0.99879556 0.99884017 0.99888477 0.99892938 0.99897399\n",
      " 0.9990186  0.99906321 0.99910782 0.99915243 0.99924165 0.99928626\n",
      " 0.99933086 0.99937547 0.99942008 0.99946469 0.9995093  0.99955391\n",
      " 0.99959852 0.99964313 0.99968774 0.99973235 0.99977695 0.99982156\n",
      " 0.99986617 0.99991078 0.99995539 1.        ]\n"
     ]
    }
   ],
   "source": [
    "x=np.array([item[0] for item in counts])\n",
    "freq=np.array([item[1] for item in counts])\n",
    "y = freq.cumsum() / freq.cumsum()[-1]\n",
    "print(freq)\n",
    "print(freq.cumsum())\n",
    "print(freq.cumsum()[-1])\n",
    "print(y)\n"
   ]
  },
  {
   "cell_type": "code",
   "execution_count": 18,
   "metadata": {},
   "outputs": [
    {
     "data": {
      "image/png": "[encoded data removed]",
      "text/plain": [
       "<Figure size 432x288 with 1 Axes>"
      ]
     },
     "metadata": {},
     "output_type": "display_data"
    }
   ],
   "source": [
    "import matplotlib.pyplot as plt\n",
    "%matplotlib inline\n",
    "plt.plot(x , y)\n",
    "plt.xlim(-1, 100)\n",
    "_ = plt.xlabel('Number of Documents')\n",
    "_ = plt.ylabel('CDF of Word Freq.')\n",
    "plt.show()"
   ]
  },
  {
   "cell_type": "code",
   "execution_count": 19,
   "metadata": {},
   "outputs": [
    {
     "data": {
      "image/png": "[encoded data removed]",
      "text/plain": [
       "<Figure size 432x288 with 1 Axes>"
      ]
     },
     "metadata": {},
     "output_type": "display_data"
    }
   ],
   "source": [
    "#Method 2\n",
    "\n",
    "x= np.sort(word_doc_freq['Doc Freq'])\n",
    "y= np.arange(1,len(x)+1)*100/len(x)\n",
    "plt.plot(x,y,marker='.',linestyle='none')\n",
    "plt.xlim(-1,500)\n",
    "plt.xlabel(\"Number of docs that words appear in\")\n",
    "plt.ylabel(\"Words (%) in <= 'x' docs\")\n",
    "plt.show()"
   ]
  },
  {
   "cell_type": "markdown",
   "metadata": {},
   "source": [
    "From the chart above we can see that min_df(point of steep curve) is very close to 0 (0.4)and \n",
    "max_df is close to 100 or 0.99."
   ]
  },
  {
   "cell_type": "markdown",
   "metadata": {},
   "source": [
    "The parameter $\\alpha$ is chosen to be a small value that simply avoids having zeros in the probability computations. This value can sometimes be chosen arbitrarily with domain expertise, but we will use K-fold cross validation. In K-fold cross-validation, we divide the data into $K$ non-overlapping parts. We train on $K-1$ of the folds and test on the remaining fold. We then iterate, so that each fold serves as the test fold exactly once. The function `cv_score` performs the K-fold cross-validation algorithm for us, but we need to pass a function that measures the performance of the algorithm on each fold. "
   ]
  },
  {
   "cell_type": "code",
   "execution_count": 32,
   "metadata": {},
   "outputs": [],
   "source": [
    "from sklearn.model_selection import KFold\n",
    "def cv_score(clf, X, y, scorefunc):\n",
    "    result = 0.\n",
    "    nfold = 5\n",
    "    for train, test in KFold(nfold).split(X): # split data into train/test groups, 5 times\n",
    "        clf.fit(X[train], y[train]) # fit the classifier, passed in as clf.\n",
    "        result += scorefunc(clf, X[test], y[test]) # evaluate score function on held-out data\n",
    "    return result / nfold # average"
   ]
  },
  {
   "cell_type": "markdown",
   "metadata": {},
   "source": [
    "We use the log-likelihood as the score here in `scorefunc`. The higher the log-likelihood, the better. Indeed, what we do in `cv_score` above is to implement the cross-validation part of `GridSearchCV`.\n",
    "\n",
    "The custom scoring function `scorefunc` allows us to use different metrics depending on the decision risk we care about (precision, accuracy, profit etc.) directly on the validation set. You will often find people using `roc_auc`, precision, recall, or `F1-score` as the scoring function."
   ]
  },
  {
   "cell_type": "code",
   "execution_count": 33,
   "metadata": {},
   "outputs": [],
   "source": [
    "def log_likelihood(clf, x, y):\n",
    "    prob = clf.predict_log_proba(x)\n",
    "    rotten = y == 0\n",
    "    fresh = ~rotten\n",
    "    return prob[rotten, 0].sum() + prob[fresh, 1].sum()"
   ]
  },
  {
   "cell_type": "markdown",
   "metadata": {},
   "source": [
    "We'll cross-validate over the regularization parameter $\\alpha$."
   ]
  },
  {
   "cell_type": "markdown",
   "metadata": {},
   "source": [
    "Let's set up the train and test masks first, and then we can run the cross-validation procedure."
   ]
  },
  {
   "cell_type": "code",
   "execution_count": 34,
   "metadata": {},
   "outputs": [
    {
     "data": {
      "text/plain": [
       "array([False, False,  True, ...,  True, False, False])"
      ]
     },
     "execution_count": 34,
     "metadata": {},
     "output_type": "execute_result"
    }
   ],
   "source": [
    "from sklearn.model_selection import train_test_split\n",
    "_, itest = train_test_split(range(critics.shape[0]),test_size=0.3,train_size=0.7)\n",
    "mask = np.zeros(critics.shape[0], dtype=np.bool)\n",
    "mask[itest] = True\n",
    "mask\n"
   ]
  },
  {
   "cell_type": "markdown",
   "metadata": {},
   "source": [
    "<div class=\"span5 alert alert-info\">\n",
    "<h3>Exercise Set IV</h3>\n",
    "\n",
    "<p><b>Exercise:</b> What does using the function `log_likelihood` as the score mean? What are we trying to optimize for?</p>\n",
    "\n",
    "<p><b>Exercise:</b> Without writing any code, what do you think would happen if you choose a value of $\\alpha$ that is too high?</p>\n",
    "\n",
    "<p><b>Exercise:</b> Using the skeleton code below, find the best values of the parameter `alpha`, and use the value of `min_df` you chose in the previous exercise set. Use the `cv_score` function above with the `log_likelihood` function for scoring.</p>\n",
    "</div>"
   ]
  },
  {
   "cell_type": "markdown",
   "metadata": {},
   "source": [
    "The log_likelihood measures the probability of observing the data given the parameters. By maximizing log_likelihood, we are trying to find the parameters that maximize the probability of predicting the training data. Since α is an additive (Laplace) smoothing parameter, a larger α will reduce the variance of the model (and overfitting) but increase bias at the same time. We can think of  α as a pseudocount of the number of times a word has been seen."
   ]
  },
  {
   "cell_type": "code",
   "execution_count": 41,
   "metadata": {},
   "outputs": [
    {
     "name": "stdout",
     "output_type": "stream",
     "text": [
      "score: -955.5582510401316 ,alpha: 0.1, min_df: 1e-05\n",
      "score: -955.5582510401316 ,alpha: 0.1, min_df: 3e-05\n",
      "score: -955.7719889326256 ,alpha: 0.1, min_df: 0.0001\n",
      "score: -917.9073784159733 ,alpha: 0.1, min_df: 0.0003\n",
      "score: -736.8660565455641 ,alpha: 0.1, min_df: 0.001\n",
      "score: -620.6881160028443 ,alpha: 0.1, min_df: 0.003\n",
      "score: -607.7486008283792 ,alpha: 0.1, min_df: 0.005\n",
      "score: -735.604201705466 ,alpha: 1, min_df: 1e-05\n",
      "score: -735.604201705466 ,alpha: 1, min_df: 3e-05\n",
      "score: -633.0992474438661 ,alpha: 1, min_df: 0.0001\n",
      "score: -606.8982256148869 ,alpha: 1, min_df: 0.0003\n",
      "score: -593.0868038731174 ,alpha: 1, min_df: 0.001\n",
      "score: -598.1074463374464 ,alpha: 1, min_df: 0.003\n",
      "score: -599.7503015449769 ,alpha: 1, min_df: 0.005\n",
      "score: -1251.0752968674674 ,alpha: 5, min_df: 1e-05\n",
      "score: -1251.0752968674674 ,alpha: 5, min_df: 3e-05\n",
      "score: -996.2416153451244 ,alpha: 5, min_df: 0.0001\n",
      "score: -717.6796658907074 ,alpha: 5, min_df: 0.0003\n",
      "score: -563.3451309254267 ,alpha: 5, min_df: 0.001\n",
      "score: -574.8869092208254 ,alpha: 5, min_df: 0.003\n",
      "score: -586.6185494371535 ,alpha: 5, min_df: 0.005\n",
      "score: -1395.915654851739 ,alpha: 10, min_df: 1e-05\n",
      "score: -1395.915654851739 ,alpha: 10, min_df: 3e-05\n",
      "score: -1207.1885207295834 ,alpha: 10, min_df: 0.0001\n",
      "score: -928.165519526129 ,alpha: 10, min_df: 0.0003\n",
      "score: -637.0948296100225 ,alpha: 10, min_df: 0.001\n",
      "score: -577.6717128603177 ,alpha: 10, min_df: 0.003\n",
      "score: -584.1911763787386 ,alpha: 10, min_df: 0.005\n",
      "score: -1344.9729925238632 ,alpha: 50, min_df: 1e-05\n",
      "score: -1344.9729925238632 ,alpha: 50, min_df: 3e-05\n",
      "score: -1293.3400650969836 ,alpha: 50, min_df: 0.0001\n",
      "score: -1192.3090366323033 ,alpha: 50, min_df: 0.0003\n",
      "score: -979.0407703207482 ,alpha: 50, min_df: 0.001\n",
      "score: -752.107881762754 ,alpha: 50, min_df: 0.003\n",
      "score: -674.2802720946978 ,alpha: 50, min_df: 0.005\n"
     ]
    }
   ],
   "source": [
    "from sklearn.naive_bayes import MultinomialNB\n",
    "\n",
    "#the grid of parameters to search over\n",
    "alphas = [.1, 1, 5, 10, 50]\n",
    "min_dfs = [0.00001, 0.00003, 0.0001, 0.0003, 0.001, 0.003, 0.005]\n",
    "# YOUR TURN: put your value of min_df here.\n",
    "best_min_df = None\n",
    "#Find the best value for alpha and min_df, and the best classifier\n",
    "best_alpha = None\n",
    "max_score=-np.inf\n",
    "for alpha in alphas:\n",
    "    for min_df in min_dfs:\n",
    "        vectorizer = CountVectorizer(min_df=min_df)       \n",
    "        Xthis, ythis = make_xy(critics, vectorizer)\n",
    "        Xtrainthis = Xthis[mask]\n",
    "        ytrainthis = ythis[mask]\n",
    "        # your turn\n",
    "        curr_score = cv_score(MultinomialNB(alpha=alpha),Xtrainthis,ytrainthis,log_likelihood)\n",
    "        print(\"score: {} ,alpha: {}, min_df: {}\".format(curr_score,alpha,min_df))\n",
    "        if curr_score > max_score:\n",
    "            max_score = curr_score\n",
    "            best_alpha = alpha\n",
    "            best_min_df = min_df"
   ]
  },
  {
   "cell_type": "code",
   "execution_count": 43,
   "metadata": {},
   "outputs": [
    {
     "name": "stdout",
     "output_type": "stream",
     "text": [
      "alpha: 5\n",
      "best min_df: 0.001\n",
      "max score: -563.3451309254267\n"
     ]
    }
   ],
   "source": [
    "print(\"alpha: {}\".format(best_alpha))\n",
    "print(\"best min_df: {}\".format(best_min_df))\n",
    "print(\"max score: {}\".format(max_score))"
   ]
  },
  {
   "cell_type": "markdown",
   "metadata": {},
   "source": [
    "<div class=\"span5 alert alert-info\">\n",
    "<h3>Exercise Set V: Working with the Best Parameters</h3>\n",
    "\n",
    "<p><b>Exercise:</b> Using the best value of  `alpha` you just found, calculate the accuracy on the training and test sets. Is this classifier better? Why (not)?</p>\n",
    "\n",
    "</div>"
   ]
  },
  {
   "cell_type": "code",
   "execution_count": 44,
   "metadata": {},
   "outputs": [
    {
     "name": "stdout",
     "output_type": "stream",
     "text": [
      "Accuracy on training data: 0.807239\n",
      "Accuracy on test data:     0.721998\n"
     ]
    }
   ],
   "source": [
    "vectorizer = CountVectorizer(min_df=best_min_df)\n",
    "X, y = make_xy(critics, vectorizer)\n",
    "xtrain=X[mask]\n",
    "ytrain=y[mask]\n",
    "xtest=X[~mask]\n",
    "ytest=y[~mask]\n",
    "\n",
    "clf = MultinomialNB(alpha=best_alpha).fit(xtrain, ytrain)\n",
    "\n",
    "#your turn. Print the accuracy on the test and training dataset\n",
    "training_accuracy = clf.score(xtrain, ytrain)\n",
    "test_accuracy = clf.score(xtest, ytest)\n",
    "\n",
    "print(\"Accuracy on training data: {:2f}\".format(training_accuracy))\n",
    "print(\"Accuracy on test data:     {:2f}\".format(test_accuracy))"
   ]
  },
  {
   "cell_type": "code",
   "execution_count": 46,
   "metadata": {},
   "outputs": [
    {
     "name": "stdout",
     "output_type": "stream",
     "text": [
      "[[2063 2174]\n",
      " [ 854 5801]]\n"
     ]
    }
   ],
   "source": [
    "from sklearn.metrics import confusion_matrix\n",
    "print(confusion_matrix(ytest, clf.predict(xtest)))"
   ]
  },
  {
   "cell_type": "markdown",
   "metadata": {},
   "source": [
    "The accuracy of this classifier is less. But the marigin between the accuracy of training and test data has diminished."
   ]
  },
  {
   "cell_type": "markdown",
   "metadata": {},
   "source": [
    "## Interpretation"
   ]
  },
  {
   "cell_type": "markdown",
   "metadata": {},
   "source": [
    "### What are the strongly predictive features?\n",
    "\n",
    "We use a neat trick to identify strongly predictive features (i.e. words). \n",
    "\n",
    "* first, create a data set such that each row has exactly one feature. This is represented by the identity matrix.\n",
    "* use the trained classifier to make predictions on this matrix\n",
    "* sort the rows by predicted probabilities, and pick the top and bottom $K$ rows"
   ]
  },
  {
   "cell_type": "code",
   "execution_count": 51,
   "metadata": {},
   "outputs": [
    {
     "name": "stdout",
     "output_type": "stream",
     "text": [
      "[[1. 0. 0. ... 0. 0. 0.]\n",
      " [0. 1. 0. ... 0. 0. 0.]\n",
      " [0. 0. 1. ... 0. 0. 0.]\n",
      " ...\n",
      " [0. 0. 0. ... 1. 0. 0.]\n",
      " [0. 0. 0. ... 0. 1. 0.]\n",
      " [0. 0. 0. ... 0. 0. 1.]]\n",
      "[-0.59550106 -0.96617713 -0.7348901  ... -0.93115628 -0.96617713\n",
      " -1.08297569]\n",
      "[1900  950  789 ... 1017 1375 1412]\n",
      "Good words\t     P(fresh | word)\n",
      "            touching 0.84\n",
      "         intelligent 0.84\n",
      "               gives 0.82\n",
      "               light 0.82\n",
      "            pleasure 0.82\n",
      "               smart 0.82\n",
      "       entertainment 0.82\n",
      "        entertaining 0.82\n",
      "           enjoyable 0.81\n",
      "                best 0.81\n",
      "Bad words\t     P(fresh | word)\n",
      "                save 0.28\n",
      "              either 0.28\n",
      "              stupid 0.28\n",
      "               video 0.27\n",
      "                dull 0.27\n",
      "               awful 0.27\n",
      "                flat 0.27\n",
      "               lacks 0.26\n",
      "           pointless 0.25\n",
      "             problem 0.21\n"
     ]
    }
   ],
   "source": [
    "words = np.array(vectorizer.get_feature_names())\n",
    "\n",
    "x = np.eye(xtest.shape[1])\n",
    "print(x)\n",
    "probs = clf.predict_log_proba(x)[:, 0]\n",
    "print(probs)\n",
    "\n",
    "ind = np.argsort(probs)\n",
    "print(ind)\n",
    "\n",
    "good_words = words[ind[:10]]\n",
    "bad_words = words[ind[-10:]]\n",
    "\n",
    "good_prob = probs[ind[:10]]\n",
    "bad_prob = probs[ind[-10:]]\n",
    "\n",
    "print(\"Good words\\t     P(fresh | word)\")\n",
    "for w, p in zip(good_words, good_prob):\n",
    "    print(\"{:>20}\".format(w), \"{:.2f}\".format(1 - np.exp(p)))\n",
    "    \n",
    "print(\"Bad words\\t     P(fresh | word)\")\n",
    "for w, p in zip(bad_words, bad_prob):\n",
    "    print(\"{:>20}\".format(w), \"{:.2f}\".format(1 - np.exp(p)))"
   ]
  },
  {
   "cell_type": "markdown",
   "metadata": {},
   "source": [
    "<div class=\"span5 alert alert-info\">\n",
    "<h3>Exercise Set VI</h3>\n",
    "\n",
    "<p><b>Exercise:</b> Why does this method work? What does the probability for each row in the identity matrix represent</p>\n",
    "\n",
    "</div>"
   ]
  },
  {
   "cell_type": "markdown",
   "metadata": {},
   "source": [
    "The classifier has been trained using  a trainingdata set and the likelihood of the data appearing given the class is high. So the test data from the set is bound to work well, as the probability is above 80%.\n",
    "The probability for each row in the identiy matrix represents the likelihood of that word appearing in the review.\n",
    "\n",
    "This method essentially is the liklihood/conditional probability of each word within a given class. For the given word within a class, it calculates the probability of that word and its likelihood, then when deciding on the which class to choose, it's easier to calculate the the maxmimum likelihood of which class that new test data belongs to. For example, it predicts the highest probabilities within \"Fresh\" and \"Rotten\" class, therefore showing the words that appear the most in these classes. The training samples are used to estimate the conditional probabilities of each word that are either in the class bad or good words where each row in the identity matrix represent the words within that given class."
   ]
  },
  {
   "cell_type": "markdown",
   "metadata": {},
   "source": [
    "The above exercise is an example of *feature selection*. There are many other feature selection methods. A list of feature selection methods available in `sklearn` is [here](http://scikit-learn.org/stable/modules/classes.html#module-sklearn.feature_selection). The most common feature selection technique for text mining is the chi-squared $\\left( \\chi^2 \\right)$ [method](http://nlp.stanford.edu/IR-book/html/htmledition/feature-selectionchi2-feature-selection-1.html)."
   ]
  },
  {
   "cell_type": "markdown",
   "metadata": {},
   "source": [
    "### Prediction Errors\n",
    "\n",
    "We can see mis-predictions as well."
   ]
  },
  {
   "cell_type": "code",
   "execution_count": 52,
   "metadata": {},
   "outputs": [
    {
     "name": "stdout",
     "output_type": "stream",
     "text": [
      "Mis-predicted Rotten quotes\n",
      "---------------------------\n",
      "It survives today only as an unusually pure example of a typical 50s art-film strategy: the attempt to make the most modern and most popular of art forms acceptable to the intelligentsia by forcing it into an arcane, antique mold.\n",
      "\n",
      "The Disney organization is worst when it makes \"family entertainment\" and best when it sticks to pure, simple, charming fantasy.\n",
      "\n",
      "For all the pleasure there is in seeing effective, great-looking black women grappling with major life issues on screen, Waiting to Exhale is an uneven piece.\n",
      "\n",
      "Benefits from a lively lead performance by the miscast Denzel Washington but doesn't come within light years of the book, one of the greatest American autobiographies.\n",
      "\n",
      "With its feints at horror and pathos, the third Star Wars film is the most Disney-esque in its emotional outline, yet that outline is buried beneath an obnoxiously hyped-up pace that reduces the emotions to rubble.\n",
      "\n",
      "Mis-predicted Fresh quotes\n",
      "--------------------------\n",
      "There's too much talent and too strong a story to mess it up. There was potential for more here, but this incarnation is nothing to be ashamed of, and some of the actors answer the bell.\n",
      "\n",
      "Things might be bad, the movie suggests, but they're not so bad you can't laugh.\n",
      "\n",
      "The gangland plot is flimsy (bad guy Peter Greene wears too much eyeliner), and the jokes are erratic, but it's a far better showcase for Carrey's comic-from-Uranus talent than Ace Ventura.\n",
      "\n",
      "This tough-to-peg whodunit keeps you going for two hours, despite a few James Bond-ish (or Jane Bond-ish) turns that play less preposterously than you might assume were they to be divulged.\n",
      "\n",
      "Though it's a good half hour too long, this overblown 1993 spin-off of the 60s TV show otherwise adds up to a pretty good suspense thriller.\n",
      "\n"
     ]
    }
   ],
   "source": [
    "x, y = make_xy(critics, vectorizer)\n",
    "\n",
    "prob = clf.predict_proba(x)[:, 0]\n",
    "predict = clf.predict(x)\n",
    "\n",
    "bad_rotten = np.argsort(prob[y == 0])[:5]\n",
    "bad_fresh = np.argsort(prob[y == 1])[-5:]\n",
    "\n",
    "print(\"Mis-predicted Rotten quotes\")\n",
    "print('---------------------------')\n",
    "for row in bad_rotten:\n",
    "    print(critics[y == 0].quote.iloc[row])\n",
    "    print(\"\")\n",
    "\n",
    "print(\"Mis-predicted Fresh quotes\")\n",
    "print('--------------------------')\n",
    "for row in bad_fresh:\n",
    "    print(critics[y == 1].quote.iloc[row])\n",
    "    print(\"\")"
   ]
  },
  {
   "cell_type": "markdown",
   "metadata": {},
   "source": [
    "<div class=\"span5 alert alert-info\">\n",
    "<h3>Exercise Set VII: Predicting the Freshness for a New Review</h3>\n",
    "<br/>\n",
    "<div>\n",
    "<b>Exercise:</b>\n",
    "<ul>\n",
    "<li> Using your best trained classifier, predict the freshness of the following sentence: *'This movie is not remarkable, touching, or superb in any way'*\n",
    "<li> Is the result what you'd expect? Why (not)?\n",
    "</ul>\n",
    "</div>\n",
    "</div>"
   ]
  },
  {
   "cell_type": "code",
   "execution_count": 57,
   "metadata": {},
   "outputs": [
    {
     "data": {
      "text/plain": [
       "array([[ 4.38235499, 95.61764501]])"
      ]
     },
     "execution_count": 57,
     "metadata": {},
     "output_type": "execute_result"
    }
   ],
   "source": [
    "new_review = vectorizer.transform(['This movie is not remarkable, touching, or superb in any way'])\n",
    "clf.predict(new_review)\n",
    "clf.predict_proba(new_review) *100"
   ]
  },
  {
   "cell_type": "markdown",
   "metadata": {},
   "source": [
    "The classifier predicted that the review  is considered 95.6% \"Fresh\" and 4.4% \"Rotten\" therefore it's most likely \"Fresh\". This result is surprising considering the sentence is not praising the movie in any way. The classifier has not taken into account the \"not\" in front of the positive adjectives and only considered the count of the positive words and its probability within the fresh or rotten class."
   ]
  },
  {
   "cell_type": "markdown",
   "metadata": {},
   "source": [
    "### Aside: TF-IDF Weighting for Term Importance\n",
    "\n",
    "TF-IDF stands for \n",
    "\n",
    "`Term-Frequency X Inverse Document Frequency`.\n",
    "\n",
    "In the standard `CountVectorizer` model above, we used just the term frequency in a document of words in our vocabulary. In TF-IDF, we weight this term frequency by the inverse of its popularity in all documents. For example, if the word \"movie\" showed up in all the documents, it would not have much predictive value. It could actually be considered a stopword. By weighing its counts by 1 divided by its overall frequency, we downweight it. We can then use this TF-IDF weighted features as inputs to any classifier. **TF-IDF is essentially a measure of term importance, and of how discriminative a word is in a corpus.** There are a variety of nuances involved in computing TF-IDF, mainly involving where to add the smoothing term to avoid division by 0, or log of 0 errors. The formula for TF-IDF in `scikit-learn` differs from that of most textbooks: \n",
    "\n",
    "$$\\mbox{TF-IDF}(t, d) = \\mbox{TF}(t, d)\\times \\mbox{IDF}(t) = n_{td} \\log{\\left( \\frac{\\vert D \\vert}{\\vert d : t \\in d \\vert} + 1 \\right)}$$\n",
    "\n",
    "where $n_{td}$ is the number of times term $t$ occurs in document $d$, $\\vert D \\vert$ is the number of documents, and $\\vert d : t \\in d \\vert$ is the number of documents that contain $t$"
   ]
  },
  {
   "cell_type": "code",
   "execution_count": null,
   "metadata": {
    "collapsed": true
   },
   "outputs": [],
   "source": [
    "# http://scikit-learn.org/dev/modules/feature_extraction.html#text-feature-extraction\n",
    "# http://scikit-learn.org/dev/modules/classes.html#text-feature-extraction-ref\n",
    "from sklearn.feature_extraction.text import TfidfVectorizer\n",
    "tfidfvectorizer = TfidfVectorizer(min_df=1, stop_words='english')\n",
    "Xtfidf=tfidfvectorizer.fit_transform(critics.quote)"
   ]
  },
  {
   "cell_type": "markdown",
   "metadata": {},
   "source": [
    "<div class=\"span5 alert alert-info\">\n",
    "<h3>Exercise Set VIII: Enrichment <b>(Optional)</b></h3>\n",
    "\n",
    "<p>\n",
    "There are several additional things we could try. Try some of these as exercises:\n",
    "<ol>\n",
    "<li> Build a Naive Bayes model where the features are n-grams instead of words. N-grams are phrases containing n words next to each other: a bigram contains 2 words, a trigram contains 3 words, and 6-gram contains 6 words. This is useful because \"not good\" and \"so good\" mean very different things. On the other hand, as n increases, the model does not scale well since the feature set becomes more sparse.\n",
    "<li> Try a model besides Naive Bayes, one that would allow for interactions between words -- for example, a Random Forest classifier.\n",
    "<li> Try adding supplemental features -- information about genre, director, cast, etc.\n",
    "<li> Use word2vec or [Latent Dirichlet Allocation](https://en.wikipedia.org/wiki/Latent_Dirichlet_allocation) to group words into topics and use those topics for prediction.\n",
    "<li> Use TF-IDF weighting instead of word counts.\n",
    "</ol>\n",
    "</p>\n",
    "\n",
    "<b>Exercise:</b> Try at least one of these ideas to improve the model (or any other ideas of your own). Implement here and report on the result. \n",
    "</div>"
   ]
  },
  {
   "cell_type": "code",
   "execution_count": null,
   "metadata": {
    "collapsed": true
   },
   "outputs": [],
   "source": [
    "# Your turn"
   ]
  }
 ],
 "metadata": {
  "kernelspec": {
   "display_name": "Python 3",
   "language": "python",
   "name": "python3"
  },
  "language_info": {
   "codemirror_mode": {
    "name": "ipython",
    "version": 3
   },
   "file_extension": ".py",
   "mimetype": "text/x-python",
   "name": "python",
   "nbconvert_exporter": "python",
   "pygments_lexer": "ipython3",
   "version": "3.6.5"
  }
 },
 "nbformat": 4,
 "nbformat_minor": 1
}
